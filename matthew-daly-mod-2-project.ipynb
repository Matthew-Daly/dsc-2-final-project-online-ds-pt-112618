{
 "cells": [
  {
   "cell_type": "markdown",
   "metadata": {},
   "source": [
    "# Module Two Project\n",
    "## Northwind Traders: A Statistical Exploration\n"
   ]
  },
  {
   "cell_type": "markdown",
   "metadata": {},
   "source": [
    "### Matthew Daly\n",
    "Linkedin: <br>\n",
    "https://www.linkedin.com/in/matthew-d-12a22156/ <br>\n",
    "Please feel free to connect with me. "
   ]
  },
  {
   "cell_type": "markdown",
   "metadata": {},
   "source": [
    "Click if you would like to skip to a summary of findings.\n",
    "[Summary](#1)"
   ]
  },
  {
   "cell_type": "markdown",
   "metadata": {},
   "source": [
    "First, let's take a look at we will be exploring. Below is a scheme of the company's SQL database structure. "
   ]
  },
  {
   "cell_type": "markdown",
   "metadata": {},
   "source": [
    "<img src='Northwind_ERD.png'>"
   ]
  },
  {
   "cell_type": "markdown",
   "metadata": {},
   "source": [
    "We will begin by attempting to answer a specific question requested by the client, then we will do a more general analysis to see if we can find any other areas of interest. \n",
    "\n",
    "Let's import the tools we will need..."
   ]
  },
  {
   "cell_type": "code",
   "execution_count": 1,
   "metadata": {},
   "outputs": [],
   "source": [
    "import sqlite3 as sql\n",
    "import numpy as np\n",
    "import pandas as pd\n",
    "import sqlalchemy\n",
    "import matplotlib.pyplot as plt\n",
    "from sqlalchemy import create_engine\n",
    "from sqlalchemy.orm import Session, sessionmaker\n",
    "from sqlalchemy import inspect\n",
    "from sqlalchemy import MetaData\n",
    "from sqlalchemy.ext.automap import automap_base\n",
    "from scipy import stats\n",
    "import statsmodels.api as sm\n",
    "from statsmodels.formula.api import ols\n",
    "from statsmodels.graphics.factorplots import interaction_plot\n",
    "import warnings\n",
    "warnings.filterwarnings('ignore')"
   ]
  },
  {
   "cell_type": "markdown",
   "metadata": {},
   "source": [
    "and connect to the database. I will be using SQLAlchemy to query the database."
   ]
  },
  {
   "cell_type": "code",
   "execution_count": 2,
   "metadata": {},
   "outputs": [
    {
     "name": "stdout",
     "output_type": "stream",
     "text": [
      "2019-04-08 21:19:45,097 INFO sqlalchemy.engine.base.Engine SELECT CAST('test plain returns' AS VARCHAR(60)) AS anon_1\n",
      "2019-04-08 21:19:45,098 INFO sqlalchemy.engine.base.Engine ()\n",
      "2019-04-08 21:19:45,100 INFO sqlalchemy.engine.base.Engine SELECT CAST('test unicode returns' AS VARCHAR(60)) AS anon_1\n",
      "2019-04-08 21:19:45,101 INFO sqlalchemy.engine.base.Engine ()\n"
     ]
    }
   ],
   "source": [
    "engine = create_engine('sqlite:///Northwind_small.sqlite', echo=True)\n",
    "Session = sessionmaker(bind=engine)\n",
    "session = Session()\n",
    "conn = engine.connect()\n",
    "connect = sql.connect('Northwind_small.sqlite')\n",
    "cur = connect.cursor()"
   ]
  },
  {
   "cell_type": "markdown",
   "metadata": {},
   "source": [
    "Now let's get the table names."
   ]
  },
  {
   "cell_type": "code",
   "execution_count": 3,
   "metadata": {},
   "outputs": [
    {
     "name": "stdout",
     "output_type": "stream",
     "text": [
      "2019-04-08 21:19:45,258 INFO sqlalchemy.engine.base.Engine SELECT name FROM sqlite_master WHERE type='table' ORDER BY name\n",
      "2019-04-08 21:19:45,261 INFO sqlalchemy.engine.base.Engine ()\n"
     ]
    },
    {
     "data": {
      "text/plain": [
       "['Category',\n",
       " 'Customer',\n",
       " 'CustomerCustomerDemo',\n",
       " 'CustomerDemographic',\n",
       " 'Employee',\n",
       " 'EmployeeTerritory',\n",
       " 'Order',\n",
       " 'OrderDetail',\n",
       " 'Product',\n",
       " 'Region',\n",
       " 'Shipper',\n",
       " 'Supplier',\n",
       " 'Territory']"
      ]
     },
     "execution_count": 3,
     "metadata": {},
     "output_type": "execute_result"
    }
   ],
   "source": [
    "inspector = inspect(engine)\n",
    "table_names = inspector.get_table_names()\n",
    "table_names"
   ]
  },
  {
   "cell_type": "markdown",
   "metadata": {},
   "source": [
    "Then convert those tables into separate panda dataframes using SQL select statments and store them in a dictionary of dataframes. "
   ]
  },
  {
   "cell_type": "code",
   "execution_count": 4,
   "metadata": {},
   "outputs": [
    {
     "name": "stdout",
     "output_type": "stream",
     "text": [
      "2019-04-08 21:19:45,429 INFO sqlalchemy.engine.base.Engine SELECT * FROM Category\n",
      "2019-04-08 21:19:45,430 INFO sqlalchemy.engine.base.Engine ()\n",
      "2019-04-08 21:19:45,435 INFO sqlalchemy.engine.base.Engine SELECT * FROM Customer\n",
      "2019-04-08 21:19:45,436 INFO sqlalchemy.engine.base.Engine ()\n",
      "2019-04-08 21:19:45,441 INFO sqlalchemy.engine.base.Engine SELECT * FROM CustomerCustomerDemo\n",
      "2019-04-08 21:19:45,441 INFO sqlalchemy.engine.base.Engine ()\n",
      "2019-04-08 21:19:45,444 INFO sqlalchemy.engine.base.Engine SELECT * FROM CustomerDemographic\n",
      "2019-04-08 21:19:45,445 INFO sqlalchemy.engine.base.Engine ()\n",
      "2019-04-08 21:19:45,447 INFO sqlalchemy.engine.base.Engine SELECT * FROM Employee\n",
      "2019-04-08 21:19:45,448 INFO sqlalchemy.engine.base.Engine ()\n",
      "2019-04-08 21:19:45,453 INFO sqlalchemy.engine.base.Engine SELECT * FROM EmployeeTerritory\n",
      "2019-04-08 21:19:45,454 INFO sqlalchemy.engine.base.Engine ()\n",
      "2019-04-08 21:19:45,456 INFO sqlalchemy.engine.base.Engine SELECT * FROM [Order]\n",
      "2019-04-08 21:19:45,457 INFO sqlalchemy.engine.base.Engine ()\n",
      "2019-04-08 21:19:45,468 INFO sqlalchemy.engine.base.Engine SELECT * FROM OrderDetail\n",
      "2019-04-08 21:19:45,468 INFO sqlalchemy.engine.base.Engine ()\n",
      "2019-04-08 21:19:45,478 INFO sqlalchemy.engine.base.Engine SELECT * FROM Product\n",
      "2019-04-08 21:19:45,479 INFO sqlalchemy.engine.base.Engine ()\n",
      "2019-04-08 21:19:45,483 INFO sqlalchemy.engine.base.Engine SELECT * FROM Region\n",
      "2019-04-08 21:19:45,484 INFO sqlalchemy.engine.base.Engine ()\n",
      "2019-04-08 21:19:45,489 INFO sqlalchemy.engine.base.Engine SELECT * FROM Shipper\n",
      "2019-04-08 21:19:45,490 INFO sqlalchemy.engine.base.Engine ()\n",
      "2019-04-08 21:19:45,493 INFO sqlalchemy.engine.base.Engine SELECT * FROM Supplier\n",
      "2019-04-08 21:19:45,494 INFO sqlalchemy.engine.base.Engine ()\n",
      "2019-04-08 21:19:45,498 INFO sqlalchemy.engine.base.Engine SELECT * FROM Territory\n",
      "2019-04-08 21:19:45,501 INFO sqlalchemy.engine.base.Engine ()\n"
     ]
    }
   ],
   "source": [
    "sql_conns = ['SELECT * FROM [Order]' if name == 'Order' else 'SELECT * FROM ' + name for name in table_names]\n",
    "dataframes = {}\n",
    "for table, sql_conn in zip(table_names, sql_conns):\n",
    "    dataframes[table] = pd.read_sql_query(sql_conn, conn) "
   ]
  },
  {
   "cell_type": "code",
   "execution_count": 5,
   "metadata": {},
   "outputs": [
    {
     "data": {
      "text/plain": [
       "dict_keys(['Category', 'Customer', 'CustomerCustomerDemo', 'CustomerDemographic', 'Employee', 'EmployeeTerritory', 'Order', 'OrderDetail', 'Product', 'Region', 'Shipper', 'Supplier', 'Territory'])"
      ]
     },
     "execution_count": 5,
     "metadata": {},
     "output_type": "execute_result"
    }
   ],
   "source": [
    "dataframes.keys()"
   ]
  },
  {
   "cell_type": "markdown",
   "metadata": {},
   "source": [
    "Great now each table from the sql database is stored in its own pandas dataframe. While other sql queries may be necessary later, this will get us started. Which brings us to our client's primary question:   "
   ]
  },
  {
   "cell_type": "markdown",
   "metadata": {},
   "source": [
    "## Question one: Do discounts have a statistically significant effect on the number of products customers order? If so, at what level(s) of discount?"
   ]
  },
  {
   "cell_type": "markdown",
   "metadata": {},
   "source": [
    "We can frame this question as Hypotheses:"
   ]
  },
  {
   "cell_type": "markdown",
   "metadata": {},
   "source": [
    "_Ho - quantity of products ordered is the same for orders with or without a discount_"
   ]
  },
  {
   "cell_type": "markdown",
   "metadata": {},
   "source": [
    "_Ha - quantity of products ordered is higher in orders with a discount_"
   ]
  },
  {
   "cell_type": "markdown",
   "metadata": {},
   "source": [
    "This should be fairly strait forward. We will start by looking at some descriptive statistis."
   ]
  },
  {
   "cell_type": "code",
   "execution_count": 6,
   "metadata": {},
   "outputs": [
    {
     "name": "stdout",
     "output_type": "stream",
     "text": [
      "<class 'pandas.core.frame.DataFrame'>\n",
      "RangeIndex: 2155 entries, 0 to 2154\n",
      "Data columns (total 6 columns):\n",
      "Id           2155 non-null object\n",
      "OrderId      2155 non-null int64\n",
      "ProductId    2155 non-null int64\n",
      "UnitPrice    2155 non-null float64\n",
      "Quantity     2155 non-null int64\n",
      "Discount     2155 non-null float64\n",
      "dtypes: float64(2), int64(3), object(1)\n",
      "memory usage: 101.1+ KB\n"
     ]
    }
   ],
   "source": [
    "dataframes['OrderDetail'].info()"
   ]
  },
  {
   "cell_type": "markdown",
   "metadata": {},
   "source": [
    "The simplest way to proceed would be to add a column to the OrderDetails dataframe to indicate if a discount was given. Then compare the mean quantity of items ordered from those orders with discounts to those orders without discounts. "
   ]
  },
  {
   "cell_type": "code",
   "execution_count": 7,
   "metadata": {},
   "outputs": [],
   "source": [
    "order_details = dataframes['OrderDetail']\n",
    "order_details['Discount_status'] = order_details['Discount'].apply(lambda x: 1 if x > 0 else 0)"
   ]
  },
  {
   "cell_type": "markdown",
   "metadata": {},
   "source": [
    "Now we can do a bit of visualization."
   ]
  },
  {
   "cell_type": "code",
   "execution_count": 8,
   "metadata": {},
   "outputs": [
    {
     "data": {
      "text/plain": [
       "Text(0,0.5,'Average Amount of Items Ordered')"
      ]
     },
     "execution_count": 8,
     "metadata": {},
     "output_type": "execute_result"
    },
    {
     "data": {
      "image/png": "[encoded data removed]",
      "text/plain": [
       "<Figure size 432x288 with 1 Axes>"
      ]
     },
     "metadata": {
      "needs_background": "light"
     },
     "output_type": "display_data"
    }
   ],
   "source": [
    "discount = order_details['Quantity'][order_details['Discount_status'] == 1]\n",
    "no_discount = order_details['Quantity'][order_details['Discount_status'] == 0]\n",
    "X = ['With Discount', 'No Discount']\n",
    "y = [discount.mean(), no_discount.mean()]\n",
    "plt.bar(X, y, color=('green', 'blue'))\n",
    "plt.title('Dicounted v.s. Non Discounted Orders by # of Items Ordered')\n",
    "plt.ylabel('Average Amount of Items Ordered')\n"
   ]
  },
  {
   "cell_type": "markdown",
   "metadata": {},
   "source": [
    "So in looking at the mean amount of items per order, we can see a clear increase in the amount of items in orders that were offered a discount. Let's quantify this a bit by running a t-test, setting our alpha at 0.05."
   ]
  },
  {
   "cell_type": "code",
   "execution_count": 9,
   "metadata": {},
   "outputs": [
    {
     "data": {
      "text/plain": [
       "1.1440924523215966e-10"
      ]
     },
     "execution_count": 9,
     "metadata": {},
     "output_type": "execute_result"
    }
   ],
   "source": [
    "no_discount = order_details[order_details['Discount_status']==0].copy()\n",
    "discount = order_details[order_details['Discount_status']==1].copy()\n",
    "p = stats.ttest_ind(no_discount['Quantity'], discount['Quantity'])[1]\n",
    "p"
   ]
  },
  {
   "cell_type": "markdown",
   "metadata": {},
   "source": [
    "Converted to a decimal, that would give us 0.00000000011440924523215966, well below our threshold(0.05) for rejecting the null hypothesis. We can confidently say that discounts have a statistically significant effect on the number of products customers order.\n",
    "\n",
    "Now that we know discounts do have some effect, we will try to answer the second part of our client's question:\n",
    "If so, at what level(s) of discount?"
   ]
  },
  {
   "cell_type": "code",
   "execution_count": 10,
   "metadata": {},
   "outputs": [
    {
     "data": {
      "text/plain": [
       "array([0.15, 0.05, 0.2 , 0.25, 0.1 , 0.02, 0.03, 0.04, 0.06, 0.01])"
      ]
     },
     "execution_count": 10,
     "metadata": {},
     "output_type": "execute_result"
    }
   ],
   "source": [
    "# let's look at the dicount levels\n",
    "discount['Discount'].unique()\n"
   ]
  },
  {
   "cell_type": "markdown",
   "metadata": {},
   "source": [
    "Looks like we can categorize these."
   ]
  },
  {
   "cell_type": "code",
   "execution_count": 11,
   "metadata": {},
   "outputs": [
    {
     "data": {
      "text/plain": [
       "0.05    193\n",
       "0.10    173\n",
       "0.20    161\n",
       "0.15    157\n",
       "0.25    154\n",
       "Name: Discount, dtype: int64"
      ]
     },
     "execution_count": 11,
     "metadata": {},
     "output_type": "execute_result"
    }
   ],
   "source": [
    "discount['Discount'] = discount['Discount'].apply(lambda x: 0.05 if (x > 0) & (x < 0.10) else x)\n",
    "discount['Discount'].value_counts()"
   ]
  },
  {
   "cell_type": "markdown",
   "metadata": {},
   "source": [
    "Now we will run an analysis of variance test to see if there is any interpaly between the various discount levels and total items ordred."
   ]
  },
  {
   "cell_type": "code",
   "execution_count": 12,
   "metadata": {},
   "outputs": [
    {
     "name": "stdout",
     "output_type": "stream",
     "text": [
      "                    sum_sq     df         F    PR(>F)\n",
      "C(Discount)    1065.701253    4.0  0.616376  0.650947\n",
      "Residual     360060.198508  833.0       NaN       NaN\n"
     ]
    }
   ],
   "source": [
    "formula = 'Quantity ~ C(Discount)'\n",
    "lm = ols(formula, discount).fit()\n",
    "table = sm.stats.anova_lm(lm, typ=2)\n",
    "print(table)"
   ]
  },
  {
   "cell_type": "markdown",
   "metadata": {},
   "source": [
    "With a PR of 0.65, we are well above our alpha of 0.05.  \n",
    "\n",
    "That is not to say a more in-depth study might not reveal more nuanced relationships, say between the type of item and amount of discount, or time of order and discount level. "
   ]
  },
  {
   "cell_type": "markdown",
   "metadata": {},
   "source": [
    "## Conclusions Question One\n",
    "-  There is a  statistically significant relationship between discounts on individual orders and the number of items ordered.\n",
    "\n",
    "-  From a high level, the discount levels do not have an appreciable effect on the total quantity of items ordered."
   ]
  },
  {
   "cell_type": "markdown",
   "metadata": {},
   "source": [
    "As we enter the more free-flowing exploration of this data set, I would like to stay with discounts for a bit and see if discounts have a greater effect in the various territories...so: "
   ]
  },
  {
   "cell_type": "markdown",
   "metadata": {},
   "source": [
    "## Question two: Do discounts have a greater effect from one territory to another?"
   ]
  },
  {
   "cell_type": "markdown",
   "metadata": {},
   "source": [
    "Or as Hypotheses:\n",
    "\n",
    "_Ho - the effect of discounts is the same across territories_\n",
    "\n",
    "_Ha - discounts have a greater effect in different territories_"
   ]
  },
  {
   "cell_type": "markdown",
   "metadata": {},
   "source": [
    "To test these hypotheses I am going to merge the OrderDetail, Employee, EmployeeTerritory, and Territory tables into one data frame. I am only able to do this because of the small size of the database if it were larger I would have to use SQL query and join statements.  "
   ]
  },
  {
   "cell_type": "code",
   "execution_count": 13,
   "metadata": {},
   "outputs": [],
   "source": [
    "df_order_dets = dataframes['OrderDetail'].merge(dataframes['Order'], left_on='OrderId', right_on='Id', how='left')\n",
    "df_order_dets_em = df_order_dets.merge(dataframes['Employee'], left_on='EmployeeId', right_on='Id', how='left')\n",
    "df_oderDets_em_ter = df_order_dets_em.merge(dataframes['EmployeeTerritory'], left_on='EmployeeId', right_on='EmployeeId', how='left')\n",
    "df_od_em_ter = df_oderDets_em_ter.merge(dataframes['Territory'], left_on='TerritoryId', right_on='Id')\n",
    "df_oderDets_em_ter['Discount'] = df_oderDets_em_ter['Discount'].apply(lambda x: 0.05 if (x > 0) & (x < 0.10) else x)"
   ]
  },
  {
   "cell_type": "markdown",
   "metadata": {},
   "source": [
    "We will now get a list of territories and pair down the data to only that which we need to run our test. "
   ]
  },
  {
   "cell_type": "code",
   "execution_count": 14,
   "metadata": {},
   "outputs": [],
   "source": [
    "territories = np.array(df_od_em_ter.TerritoryDescription.unique())\n",
    "df_with_discount =  df_od_em_ter[df_od_em_ter.Discount_status == 1]\n",
    "df_with_no_discount = df_od_em_ter[df_od_em_ter.Discount_status == 0]\n",
    "df_q2_data = df_with_discount[['Quantity', 'Discount', 'TerritoryDescription']]\n"
   ]
  },
  {
   "cell_type": "markdown",
   "metadata": {},
   "source": [
    "Let's visualize the quantity of items per order by territory."
   ]
  },
  {
   "cell_type": "code",
   "execution_count": 15,
   "metadata": {},
   "outputs": [
    {
     "data": {
      "image/png": "[encoded data removed]",
      "text/plain": [
       "<Figure size 936x360 with 1 Axes>"
      ]
     },
     "metadata": {
      "needs_background": "light"
     },
     "output_type": "display_data"
    }
   ],
   "source": [
    "from matplotlib.pyplot import figure\n",
    "fig = figure(num=None, figsize=(13, 5))\n",
    "\n",
    "X = []\n",
    "X2 = []\n",
    "y = []\n",
    "y2 = []\n",
    "for terr in territories:\n",
    "    X.append(terr)\n",
    "    y.append(df_with_discount['Quantity'][df_with_discount['TerritoryDescription']==terr].mean())\n",
    "    \n",
    "for terr in territories:\n",
    "    y2.append(df_with_no_discount['Quantity'][df_with_no_discount['TerritoryDescription']==terr].mean())\n",
    "\n",
    "ax = plt.bar(X, y, label='discounted')\n",
    "ax2 = plt.bar(X, y2, label='no discount')\n",
    "\n",
    "plt.ylim(0,35)\n",
    "plt.ylabel('Average Quantity')\n",
    "plt.xlabel('TerritoryDescription')\n",
    "plt.title('Average Quantity of Product Per Order by Territory')\n",
    "plt.xticks(rotation='vertical')\n",
    "plt.legend()\n",
    "rects = ax.patches\n"
   ]
  },
  {
   "cell_type": "markdown",
   "metadata": {},
   "source": [
    "We will now run an analysis of variance test to see if there is a relationship between discounts and territories, in relation to the number of items in individual orders. Again we will set our Alpha at 0.05."
   ]
  },
  {
   "cell_type": "code",
   "execution_count": 16,
   "metadata": {},
   "outputs": [
    {
     "name": "stdout",
     "output_type": "stream",
     "text": [
      "                                           sum_sq      df         F    PR(>F)\n",
      "C(TerritoryDescription)             -4.816552e-01    47.0 -0.000024  1.000000\n",
      "C(Discount)                          4.299201e-01     9.0  0.000113  1.000000\n",
      "C(TerritoryDescription):C(Discount)  6.804796e+05   423.0  3.798226  0.051381\n",
      "Residual                             1.601403e+06  3781.0       NaN       NaN\n"
     ]
    }
   ],
   "source": [
    "formula = 'Quantity ~ C(TerritoryDescription)*C(Discount)'\n",
    "lm = ols(formula, df_q2_data).fit()\n",
    "table = sm.stats.anova_lm(lm, typ=2)\n",
    "print(table)\n"
   ]
  },
  {
   "cell_type": "markdown",
   "metadata": {},
   "source": [
    "In looking at the PR(>F) value of 0.0513 for Territory/Discount we are very, very close to our Alpha of 0.05. "
   ]
  },
  {
   "cell_type": "markdown",
   "metadata": {},
   "source": [
    "## Conclusions Question Two\n",
    "-  While the relationship between territory and discount does fall just outside of a statistically significant relationship, as it pertains to the number of items per order, the value is so close to our Alpha threshold that further scrutiny is definitely warranted.\n",
    "<br>\n",
    "\n",
    "-  I would suggest that as more data is accumulated this relationship is revisited, taking into account the relatively small data set we are currently working with. \n",
    "<br>\n",
    "\n",
    "-  It is also suggested that some A/B testing is performed in those territories that appear to have the most potential to be influenced by discounts to further investigate this possible area of opportunity. "
   ]
  },
  {
   "cell_type": "markdown",
   "metadata": {},
   "source": [
    "While we are on territories I am interested in seeing if some categories of items perform better in certain regions."
   ]
  },
  {
   "cell_type": "markdown",
   "metadata": {},
   "source": [
    "## Question three: Do some categories of products sell better in different regions?"
   ]
  },
  {
   "cell_type": "markdown",
   "metadata": {},
   "source": [
    "As Hypotheses:"
   ]
  },
  {
   "cell_type": "markdown",
   "metadata": {},
   "source": [
    "_Ho - product categories perform the same across regions_\n",
    "\n",
    "_Ha - product categories perform better or worse in some regions_"
   ]
  },
  {
   "cell_type": "code",
   "execution_count": 17,
   "metadata": {},
   "outputs": [],
   "source": [
    "df_product_oDets = dataframes['Product'].merge(dataframes['OrderDetail'], left_on='Id', right_on='ProductId', how='left')\n",
    "df_product_cat = df_product_oDets.merge(dataframes['Category'], left_on='CategoryId', right_on='Id', how='left')\n",
    "df_proCat_order = df_product_cat.merge(dataframes['Order'], left_on='OrderId', right_on='Id', how='left') \n",
    "df_q3_data = df_proCat_order[['Quantity', 'CategoryName', 'ShipRegion']]"
   ]
  },
  {
   "cell_type": "markdown",
   "metadata": {},
   "source": [
    "I will now run an analysis of variance test similar to the previous ones:"
   ]
  },
  {
   "cell_type": "code",
   "execution_count": 18,
   "metadata": {},
   "outputs": [
    {
     "name": "stdout",
     "output_type": "stream",
     "text": [
      "                                      sum_sq      df          F        PR(>F)\n",
      "C(ShipRegion)                   39357.276143     8.0  14.064433  6.222773e-18\n",
      "C(CategoryName)                  1493.192526     7.0   0.609825  7.226761e-01\n",
      "C(ShipRegion):C(CategoryName)   10506.671969    56.0   0.536370  9.979447e-01\n",
      "Residual                       728971.481579  2084.0        NaN           NaN\n"
     ]
    }
   ],
   "source": [
    "formula = 'Quantity ~ C(ShipRegion)*C(CategoryName)'\n",
    "lm = ols(formula, df_q3_data).fit()\n",
    "table = sm.stats.anova_lm(lm, typ=2)\n",
    "print(table)"
   ]
  },
  {
   "cell_type": "markdown",
   "metadata": {},
   "source": [
    "With a PR(>F) of 9.979447e-01 we can not reject the hypothesis that product categories perform similarly across regions. "
   ]
  },
  {
   "cell_type": "markdown",
   "metadata": {},
   "source": [
    "## Conclusions Question Three\n",
    "- There appears to be no statistically significant relationship between regions and product categories as pertaining to the number of items ordered."
   ]
  },
  {
   "cell_type": "markdown",
   "metadata": {},
   "source": [
    "For my final investigation, I would like to explore possible human influence over the quantity of items ordered. "
   ]
  },
  {
   "cell_type": "markdown",
   "metadata": {},
   "source": [
    "## Question Four:  Do employees have an effect on the number of items ordered?"
   ]
  },
  {
   "cell_type": "markdown",
   "metadata": {},
   "source": [
    "As Hypotheses:\n",
    "\n",
    "_Ho - there is no difference in the quantity of items ordered across employees_\n",
    "\n",
    "_Ha - there is a difference between the quantity of items ordered between employees_"
   ]
  },
  {
   "cell_type": "markdown",
   "metadata": {},
   "source": [
    "First, we need to merge some data frames."
   ]
  },
  {
   "cell_type": "code",
   "execution_count": 19,
   "metadata": {},
   "outputs": [],
   "source": [
    "df_OD_O = dataframes['OrderDetail'].merge(dataframes['Order'], left_on='OrderId', right_on='Id', how='left')\n",
    "df_O_em = df_OD_O.merge(dataframes['Employee'], left_on='EmployeeId', right_on='Id', how='left')\n",
    "employees = df_O_em['FirstName'].unique()"
   ]
  },
  {
   "cell_type": "markdown",
   "metadata": {},
   "source": [
    "Then let us do some visualization."
   ]
  },
  {
   "cell_type": "code",
   "execution_count": 20,
   "metadata": {},
   "outputs": [
    {
     "data": {
      "image/png": "[encoded data removed]",
      "text/plain": [
       "<Figure size 936x360 with 1 Axes>"
      ]
     },
     "metadata": {
      "needs_background": "light"
     },
     "output_type": "display_data"
    }
   ],
   "source": [
    "fig = figure(num=None, figsize=(13, 5))\n",
    "X = []\n",
    "y = []\n",
    "for employee in employees:\n",
    "    X.append(employee)\n",
    "    y.append(df_O_em['Quantity'][df_O_em['FirstName']==employee].mean())\n",
    "    \n",
    "plt.bar(X, y)\n",
    "\n",
    "plt.ylim(0,30)\n",
    "plt.ylabel('Average Quantity Per Order')\n",
    "plt.xlabel('Employee First Name')\n",
    "plt.title('Quantity Sold by Employee')\n",
    "rects = ax.patches"
   ]
  },
  {
   "cell_type": "markdown",
   "metadata": {},
   "source": [
    "In looking at the chart there doesn't appear to be much difference between employees but let's quantify it."
   ]
  },
  {
   "cell_type": "code",
   "execution_count": 21,
   "metadata": {},
   "outputs": [
    {
     "name": "stdout",
     "output_type": "stream",
     "text": [
      "                     sum_sq      df         F   PR(>F)\n",
      "C(FirstName)    4643.183282     8.0  1.607646  0.11745\n",
      "Residual      774756.452913  2146.0       NaN      NaN\n"
     ]
    }
   ],
   "source": [
    "formula = 'Quantity ~ C(FirstName)'\n",
    "lm = ols(formula, df_O_em).fit()\n",
    "table = sm.stats.anova_lm(lm, typ=2)\n",
    "print(table)"
   ]
  },
  {
   "cell_type": "markdown",
   "metadata": {},
   "source": [
    "With a PR(>F) of 0.117, well above our Alpha of 0.05, there appears to be no statistically significant relationship between employees and number of items per order. "
   ]
  },
  {
   "cell_type": "markdown",
   "metadata": {},
   "source": [
    "## Conclusions Question Four\n",
    "-  There appears to be no relationship between quantities ordered and the employee handling the order. \n",
    "<br>\n",
    "\n",
    "-  This could speak to either excellent training in the sales department or a system that does not allow      individual employees to influence the outcome of orders. If it is later, ways should be explored to give salespeople opportunities to upsell customers. It is a bit surprising not to see more variance between employees. "
   ]
  },
  {
   "cell_type": "markdown",
   "metadata": {},
   "source": [
    "<a id='1'></a>"
   ]
  },
  {
   "cell_type": "markdown",
   "metadata": {},
   "source": [
    "## Summation\n"
   ]
  },
  {
   "cell_type": "markdown",
   "metadata": {},
   "source": [
    "I would like to take a moment to revisit the questions posed and the results discovered. "
   ]
  },
  {
   "cell_type": "markdown",
   "metadata": {},
   "source": [
    "### Question one:\n",
    "<br>\n",
    "Do discounts have a statistically significant effect on the number of products customers order? If so, at what level(s) of discount?\n",
    "\n",
    "__results__\n",
    "\n",
    "-  There is a clear, statistical significant relationship between discounts and number of items ordered.\n",
    "<br>\n",
    "\n",
    "-  Level of discount has no appreciable effect on the number of items ordered.\n",
    "\n"
   ]
  },
  {
   "cell_type": "markdown",
   "metadata": {},
   "source": [
    "### Question two:\n",
    "<br>\n",
    "Do discounts have a greater effect from one territory to another?\n",
    "\n",
    "__results__\n",
    "\n",
    "-  While the relationship between territory and discount falls just outside of a statistically significant relationship - as it pertains to the number of items per order - the value is so close to our Alpha threshold that further scrutiny is definitely warranted.\n",
    "<br>\n",
    "\n",
    "-  I would suggest that as more data is accumulated this relationship is revisited, taking into account the relatively small data set we are currently working with. \n",
    "<br>\n",
    "\n",
    "-  It is also suggested that some A/B testing is performed in those territories that appear to have the most potential to be influenced by discounts - to further investigate this possible area of opportunity. "
   ]
  },
  {
   "cell_type": "markdown",
   "metadata": {},
   "source": [
    "### Question three:\n",
    "<br>\n",
    "Do some categories of products sell better in different regions?\n",
    "\n",
    "__results__\n",
    "\n",
    "-  There appears to be no statistically significant relationship between regions and product categories as pertaining to the number of items ordered.  \n",
    "\n"
   ]
  },
  {
   "cell_type": "markdown",
   "metadata": {},
   "source": [
    "### Question four:\n",
    "<br>\n",
    "Do employees have an effect on the number of items ordered?\n",
    "\n",
    "__results__\n",
    "\n",
    "-  There appears to be no relationship between quantities ordered and the employee handling the order. \n",
    "<br>\n",
    "\n",
    "-  This could speak to either excellent training in the sales department or a system that does not allow      individual employees to influence the outcome of orders. If it is latter, ways should be explored to give salespeople opportunities to upsell customers. It is a bit surprising not to see more variance between employees. "
   ]
  },
  {
   "cell_type": "markdown",
   "metadata": {},
   "source": [
    "## Future Work "
   ]
  },
  {
   "cell_type": "markdown",
   "metadata": {},
   "source": [
    "- Given that there is such a clear relationship between discounts and orders, but surprisingly little difference between discounts levels on orders, much more research, including A/B testing, should be done in this area.  It could be that the discount levels are not being used to there full advantage or that employees are not empowered to leverage this obviously useful sales tool. Which leads us to:\n",
    "<br/>\n",
    "\n",
    "- It is also very surprising that we do not see more variance in employee sales performance. This could point to either an amazing training program or an inflexible sales process that does not allow employees to influence the ordering process. This may well be linked to the lack of variance we see between discount levels. Sales employees should license to use discount levels to effect sales outcomes. The sales process should be reviewed to ensure we optimize both sales employees and discount levels. Again A/B testing is recommended. "
   ]
  },
  {
   "cell_type": "code",
   "execution_count": null,
   "metadata": {},
   "outputs": [],
   "source": []
  }
 ],
 "metadata": {
  "kernelspec": {
   "display_name": "learn-env",
   "language": "python",
   "name": "learn-env"
  },
  "language_info": {
   "codemirror_mode": {
    "name": "ipython",
    "version": 3
   },
   "file_extension": ".py",
   "mimetype": "text/x-python",
   "name": "python",
   "nbconvert_exporter": "python",
   "pygments_lexer": "ipython3",
   "version": "3.6.6"
  }
 },
 "nbformat": 4,
 "nbformat_minor": 2
}
